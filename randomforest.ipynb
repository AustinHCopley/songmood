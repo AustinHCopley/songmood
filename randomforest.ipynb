{
 "cells": [
  {
   "cell_type": "code",
   "execution_count": 1,
   "metadata": {},
   "outputs": [],
   "source": [
    "import pandas as pd\n",
    "import numpy as np\n",
    "from sklearn.ensemble import RandomForestRegressor\n",
    "from sklearn.metrics import mean_squared_error, r2_score, mean_absolute_error\n",
    "from sklearn.model_selection import GridSearchCV"
   ]
  },
  {
   "cell_type": "code",
   "execution_count": 2,
   "metadata": {},
   "outputs": [
    {
     "name": "stdout",
     "output_type": "stream",
     "text": [
      "5000\n"
     ]
    }
   ],
   "source": [
    "with open('mxm_words.csv', 'r') as file:\n",
    "    line = file.readline().strip()\n",
    "words_list = line.split(',')\n",
    "print(len(words_list))"
   ]
  },
  {
   "cell_type": "markdown",
   "metadata": {},
   "source": [
    "# MXM xref MuSe"
   ]
  },
  {
   "cell_type": "code",
   "execution_count": 3,
   "metadata": {},
   "outputs": [
    {
     "data": {
      "text/plain": [
       "<bound method NDFrame.head of     Unnamed: 0                                        word_counts   \n",
       "0            0  {6: 7, 7: 2, 24: 1, 38: 3, 42: 3, 47: 8, 77: 4...  \\\n",
       "1            1  {1: 32, 2: 16, 3: 20, 4: 21, 5: 3, 6: 5, 7: 22...   \n",
       "2            2  {1: 10, 2: 8, 3: 1, 4: 8, 5: 7, 6: 3, 7: 2, 8:...   \n",
       "3            3  {1: 17, 2: 17, 3: 15, 4: 26, 5: 8, 6: 19, 7: 4...   \n",
       "4            4  {2: 11, 3: 2, 4: 6, 5: 2, 6: 8, 7: 3, 10: 6, 1...   \n",
       "..         ...                                                ...   \n",
       "81          81  {1: 12, 2: 16, 3: 14, 4: 24, 5: 8, 9: 12, 10: ...   \n",
       "82          82  {1: 6, 2: 5, 3: 6, 4: 2, 5: 4, 6: 1, 7: 9, 8: ...   \n",
       "83          83  {1: 2, 2: 8, 3: 2, 4: 5, 5: 5, 6: 5, 7: 4, 8: ...   \n",
       "84          84  {1: 5, 2: 8, 3: 5, 4: 2, 5: 11, 6: 1, 7: 3, 8:...   \n",
       "85          85  {1: 10, 2: 24, 3: 7, 4: 4, 5: 7, 6: 10, 7: 1, ...   \n",
       "\n",
       "            Artist                           Title  valence_tags   \n",
       "0      Soda Stereo                 Entre Caníbales      3.130000  \\\n",
       "1      Boyz II Men                  On Bended Knee      6.472533   \n",
       "2        Pearl Jam                      Inside Job      6.470000   \n",
       "3        Busdriver  (Bloody Paw On The) Kill Floor      2.540000   \n",
       "4          Orbital                      Illuminate      5.628889   \n",
       "..             ...                             ...           ...   \n",
       "81          22-20s                         Hold On      3.033333   \n",
       "82          Weezer                 Mykel And Carli      6.586408   \n",
       "83  Scott Matthews                   City Headache      6.024516   \n",
       "84      K's Choice                  20.000 Seconds      4.252000   \n",
       "85     The Killers            A Dustland Fairytale      6.565763   \n",
       "\n",
       "    arousal_tags  dominance_tags                     seeds  \n",
       "0       2.997500        3.212500             ['nostalgic']  \n",
       "1       4.509067        5.800933              ['romantic']  \n",
       "2       3.962609        5.741304                  ['epic']  \n",
       "3       2.045000        2.305000           ['apocalyptic']  \n",
       "4       3.875111        4.814222               ['driving']  \n",
       "..           ...             ...                       ...  \n",
       "81      4.130000        4.336667              ['brooding']  \n",
       "82      4.900583        5.632233  ['bittersweet', 'sweet']  \n",
       "83      3.301613        6.112258                 ['quiet']  \n",
       "84      3.878000        4.700000                 ['light']  \n",
       "85      4.728475        5.585932                  ['epic']  \n",
       "\n",
       "[86 rows x 8 columns]>"
      ]
     },
     "execution_count": 3,
     "metadata": {},
     "output_type": "execute_result"
    }
   ],
   "source": [
    "mxmuse = pd.read_csv(\"mxmuse.csv\", sep=\";\")\n",
    "mxmuse.head"
   ]
  },
  {
   "cell_type": "code",
   "execution_count": 4,
   "metadata": {},
   "outputs": [
    {
     "data": {
      "text/html": [
       "<div>\n",
       "<style scoped>\n",
       "    .dataframe tbody tr th:only-of-type {\n",
       "        vertical-align: middle;\n",
       "    }\n",
       "\n",
       "    .dataframe tbody tr th {\n",
       "        vertical-align: top;\n",
       "    }\n",
       "\n",
       "    .dataframe thead th {\n",
       "        text-align: right;\n",
       "    }\n",
       "</style>\n",
       "<table border=\"1\" class=\"dataframe\">\n",
       "  <thead>\n",
       "    <tr style=\"text-align: right;\">\n",
       "      <th></th>\n",
       "      <th>word_counts</th>\n",
       "      <th>Artist</th>\n",
       "      <th>Title</th>\n",
       "      <th>valence_tags</th>\n",
       "      <th>arousal_tags</th>\n",
       "      <th>dominance_tags</th>\n",
       "      <th>seeds</th>\n",
       "    </tr>\n",
       "  </thead>\n",
       "  <tbody>\n",
       "    <tr>\n",
       "      <th>0</th>\n",
       "      <td>{6: 7, 7: 2, 24: 1, 38: 3, 42: 3, 47: 8, 77: 4...</td>\n",
       "      <td>Soda Stereo</td>\n",
       "      <td>Entre Caníbales</td>\n",
       "      <td>3.130000</td>\n",
       "      <td>2.997500</td>\n",
       "      <td>3.212500</td>\n",
       "      <td>['nostalgic']</td>\n",
       "    </tr>\n",
       "    <tr>\n",
       "      <th>1</th>\n",
       "      <td>{1: 32, 2: 16, 3: 20, 4: 21, 5: 3, 6: 5, 7: 22...</td>\n",
       "      <td>Boyz II Men</td>\n",
       "      <td>On Bended Knee</td>\n",
       "      <td>6.472533</td>\n",
       "      <td>4.509067</td>\n",
       "      <td>5.800933</td>\n",
       "      <td>['romantic']</td>\n",
       "    </tr>\n",
       "    <tr>\n",
       "      <th>2</th>\n",
       "      <td>{1: 10, 2: 8, 3: 1, 4: 8, 5: 7, 6: 3, 7: 2, 8:...</td>\n",
       "      <td>Pearl Jam</td>\n",
       "      <td>Inside Job</td>\n",
       "      <td>6.470000</td>\n",
       "      <td>3.962609</td>\n",
       "      <td>5.741304</td>\n",
       "      <td>['epic']</td>\n",
       "    </tr>\n",
       "    <tr>\n",
       "      <th>3</th>\n",
       "      <td>{1: 17, 2: 17, 3: 15, 4: 26, 5: 8, 6: 19, 7: 4...</td>\n",
       "      <td>Busdriver</td>\n",
       "      <td>(Bloody Paw On The) Kill Floor</td>\n",
       "      <td>2.540000</td>\n",
       "      <td>2.045000</td>\n",
       "      <td>2.305000</td>\n",
       "      <td>['apocalyptic']</td>\n",
       "    </tr>\n",
       "    <tr>\n",
       "      <th>4</th>\n",
       "      <td>{2: 11, 3: 2, 4: 6, 5: 2, 6: 8, 7: 3, 10: 6, 1...</td>\n",
       "      <td>Orbital</td>\n",
       "      <td>Illuminate</td>\n",
       "      <td>5.628889</td>\n",
       "      <td>3.875111</td>\n",
       "      <td>4.814222</td>\n",
       "      <td>['driving']</td>\n",
       "    </tr>\n",
       "    <tr>\n",
       "      <th>...</th>\n",
       "      <td>...</td>\n",
       "      <td>...</td>\n",
       "      <td>...</td>\n",
       "      <td>...</td>\n",
       "      <td>...</td>\n",
       "      <td>...</td>\n",
       "      <td>...</td>\n",
       "    </tr>\n",
       "    <tr>\n",
       "      <th>81</th>\n",
       "      <td>{1: 12, 2: 16, 3: 14, 4: 24, 5: 8, 9: 12, 10: ...</td>\n",
       "      <td>22-20s</td>\n",
       "      <td>Hold On</td>\n",
       "      <td>3.033333</td>\n",
       "      <td>4.130000</td>\n",
       "      <td>4.336667</td>\n",
       "      <td>['brooding']</td>\n",
       "    </tr>\n",
       "    <tr>\n",
       "      <th>82</th>\n",
       "      <td>{1: 6, 2: 5, 3: 6, 4: 2, 5: 4, 6: 1, 7: 9, 8: ...</td>\n",
       "      <td>Weezer</td>\n",
       "      <td>Mykel And Carli</td>\n",
       "      <td>6.586408</td>\n",
       "      <td>4.900583</td>\n",
       "      <td>5.632233</td>\n",
       "      <td>['bittersweet', 'sweet']</td>\n",
       "    </tr>\n",
       "    <tr>\n",
       "      <th>83</th>\n",
       "      <td>{1: 2, 2: 8, 3: 2, 4: 5, 5: 5, 6: 5, 7: 4, 8: ...</td>\n",
       "      <td>Scott Matthews</td>\n",
       "      <td>City Headache</td>\n",
       "      <td>6.024516</td>\n",
       "      <td>3.301613</td>\n",
       "      <td>6.112258</td>\n",
       "      <td>['quiet']</td>\n",
       "    </tr>\n",
       "    <tr>\n",
       "      <th>84</th>\n",
       "      <td>{1: 5, 2: 8, 3: 5, 4: 2, 5: 11, 6: 1, 7: 3, 8:...</td>\n",
       "      <td>K's Choice</td>\n",
       "      <td>20.000 Seconds</td>\n",
       "      <td>4.252000</td>\n",
       "      <td>3.878000</td>\n",
       "      <td>4.700000</td>\n",
       "      <td>['light']</td>\n",
       "    </tr>\n",
       "    <tr>\n",
       "      <th>85</th>\n",
       "      <td>{1: 10, 2: 24, 3: 7, 4: 4, 5: 7, 6: 10, 7: 1, ...</td>\n",
       "      <td>The Killers</td>\n",
       "      <td>A Dustland Fairytale</td>\n",
       "      <td>6.565763</td>\n",
       "      <td>4.728475</td>\n",
       "      <td>5.585932</td>\n",
       "      <td>['epic']</td>\n",
       "    </tr>\n",
       "  </tbody>\n",
       "</table>\n",
       "<p>86 rows × 7 columns</p>\n",
       "</div>"
      ],
      "text/plain": [
       "                                          word_counts          Artist   \n",
       "0   {6: 7, 7: 2, 24: 1, 38: 3, 42: 3, 47: 8, 77: 4...     Soda Stereo  \\\n",
       "1   {1: 32, 2: 16, 3: 20, 4: 21, 5: 3, 6: 5, 7: 22...     Boyz II Men   \n",
       "2   {1: 10, 2: 8, 3: 1, 4: 8, 5: 7, 6: 3, 7: 2, 8:...       Pearl Jam   \n",
       "3   {1: 17, 2: 17, 3: 15, 4: 26, 5: 8, 6: 19, 7: 4...       Busdriver   \n",
       "4   {2: 11, 3: 2, 4: 6, 5: 2, 6: 8, 7: 3, 10: 6, 1...         Orbital   \n",
       "..                                                ...             ...   \n",
       "81  {1: 12, 2: 16, 3: 14, 4: 24, 5: 8, 9: 12, 10: ...          22-20s   \n",
       "82  {1: 6, 2: 5, 3: 6, 4: 2, 5: 4, 6: 1, 7: 9, 8: ...          Weezer   \n",
       "83  {1: 2, 2: 8, 3: 2, 4: 5, 5: 5, 6: 5, 7: 4, 8: ...  Scott Matthews   \n",
       "84  {1: 5, 2: 8, 3: 5, 4: 2, 5: 11, 6: 1, 7: 3, 8:...      K's Choice   \n",
       "85  {1: 10, 2: 24, 3: 7, 4: 4, 5: 7, 6: 10, 7: 1, ...     The Killers   \n",
       "\n",
       "                             Title  valence_tags  arousal_tags   \n",
       "0                  Entre Caníbales      3.130000      2.997500  \\\n",
       "1                   On Bended Knee      6.472533      4.509067   \n",
       "2                       Inside Job      6.470000      3.962609   \n",
       "3   (Bloody Paw On The) Kill Floor      2.540000      2.045000   \n",
       "4                       Illuminate      5.628889      3.875111   \n",
       "..                             ...           ...           ...   \n",
       "81                         Hold On      3.033333      4.130000   \n",
       "82                 Mykel And Carli      6.586408      4.900583   \n",
       "83                   City Headache      6.024516      3.301613   \n",
       "84                  20.000 Seconds      4.252000      3.878000   \n",
       "85            A Dustland Fairytale      6.565763      4.728475   \n",
       "\n",
       "    dominance_tags                     seeds  \n",
       "0         3.212500             ['nostalgic']  \n",
       "1         5.800933              ['romantic']  \n",
       "2         5.741304                  ['epic']  \n",
       "3         2.305000           ['apocalyptic']  \n",
       "4         4.814222               ['driving']  \n",
       "..             ...                       ...  \n",
       "81        4.336667              ['brooding']  \n",
       "82        5.632233  ['bittersweet', 'sweet']  \n",
       "83        6.112258                 ['quiet']  \n",
       "84        4.700000                 ['light']  \n",
       "85        5.585932                  ['epic']  \n",
       "\n",
       "[86 rows x 7 columns]"
      ]
     },
     "execution_count": 4,
     "metadata": {},
     "output_type": "execute_result"
    }
   ],
   "source": [
    "mxmuse.drop(columns=[\"Unnamed: 0\"], inplace=True)\n",
    "mxmuse"
   ]
  },
  {
   "cell_type": "markdown",
   "metadata": {},
   "source": [
    "### Create Bag of Words"
   ]
  },
  {
   "cell_type": "code",
   "execution_count": 5,
   "metadata": {},
   "outputs": [
    {
     "name": "stdout",
     "output_type": "stream",
     "text": [
      "[[ 0.  0.  0. ...  0.  0.  0.]\n",
      " [ 0. 32. 16. ...  0.  0.  0.]\n",
      " [ 0. 10.  8. ...  0.  0.  0.]\n",
      " ...\n",
      " [ 0.  2.  8. ...  0.  0.  0.]\n",
      " [ 0.  5.  8. ...  0.  0.  0.]\n",
      " [ 0. 10. 24. ...  0.  0.  0.]]\n"
     ]
    }
   ],
   "source": [
    "bag_words = np.zeros((len(mxmuse), len(words_list)))\n",
    "valence = []\n",
    "arousal = []\n",
    "dominance = []\n",
    "\n",
    "for i, x in enumerate(mxmuse.values):\n",
    "    word_count = eval(x[0])\n",
    "    for word_index, count in word_count.items():\n",
    "        bag_words[i, word_index] = count\n",
    "\n",
    "print(bag_words)"
   ]
  },
  {
   "cell_type": "code",
   "execution_count": 6,
   "metadata": {},
   "outputs": [],
   "source": [
    "v_train = (mxmuse['valence_tags'].values)[:69]\n",
    "a_train = (mxmuse['arousal_tags'].values)[:69]\n",
    "d_train = (mxmuse['dominance_tags'].values)[:69]\n",
    "\n",
    "v_test = (mxmuse['valence_tags'].values)[69:]\n",
    "a_test = (mxmuse['arousal_tags'].values)[69:]\n",
    "d_test = (mxmuse['dominance_tags'].values)[69:]"
   ]
  },
  {
   "cell_type": "code",
   "execution_count": 7,
   "metadata": {},
   "outputs": [],
   "source": [
    "# ~80/20 train/test split\n",
    "bow_train = bag_words[:69]\n",
    "bow_test = bag_words[69:]"
   ]
  },
  {
   "cell_type": "code",
   "execution_count": 24,
   "metadata": {},
   "outputs": [
    {
     "data": {
      "text/html": [
       "<style>#sk-container-id-4 {color: black;background-color: white;}#sk-container-id-4 pre{padding: 0;}#sk-container-id-4 div.sk-toggleable {background-color: white;}#sk-container-id-4 label.sk-toggleable__label {cursor: pointer;display: block;width: 100%;margin-bottom: 0;padding: 0.3em;box-sizing: border-box;text-align: center;}#sk-container-id-4 label.sk-toggleable__label-arrow:before {content: \"▸\";float: left;margin-right: 0.25em;color: #696969;}#sk-container-id-4 label.sk-toggleable__label-arrow:hover:before {color: black;}#sk-container-id-4 div.sk-estimator:hover label.sk-toggleable__label-arrow:before {color: black;}#sk-container-id-4 div.sk-toggleable__content {max-height: 0;max-width: 0;overflow: hidden;text-align: left;background-color: #f0f8ff;}#sk-container-id-4 div.sk-toggleable__content pre {margin: 0.2em;color: black;border-radius: 0.25em;background-color: #f0f8ff;}#sk-container-id-4 input.sk-toggleable__control:checked~div.sk-toggleable__content {max-height: 200px;max-width: 100%;overflow: auto;}#sk-container-id-4 input.sk-toggleable__control:checked~label.sk-toggleable__label-arrow:before {content: \"▾\";}#sk-container-id-4 div.sk-estimator input.sk-toggleable__control:checked~label.sk-toggleable__label {background-color: #d4ebff;}#sk-container-id-4 div.sk-label input.sk-toggleable__control:checked~label.sk-toggleable__label {background-color: #d4ebff;}#sk-container-id-4 input.sk-hidden--visually {border: 0;clip: rect(1px 1px 1px 1px);clip: rect(1px, 1px, 1px, 1px);height: 1px;margin: -1px;overflow: hidden;padding: 0;position: absolute;width: 1px;}#sk-container-id-4 div.sk-estimator {font-family: monospace;background-color: #f0f8ff;border: 1px dotted black;border-radius: 0.25em;box-sizing: border-box;margin-bottom: 0.5em;}#sk-container-id-4 div.sk-estimator:hover {background-color: #d4ebff;}#sk-container-id-4 div.sk-parallel-item::after {content: \"\";width: 100%;border-bottom: 1px solid gray;flex-grow: 1;}#sk-container-id-4 div.sk-label:hover label.sk-toggleable__label {background-color: #d4ebff;}#sk-container-id-4 div.sk-serial::before {content: \"\";position: absolute;border-left: 1px solid gray;box-sizing: border-box;top: 0;bottom: 0;left: 50%;z-index: 0;}#sk-container-id-4 div.sk-serial {display: flex;flex-direction: column;align-items: center;background-color: white;padding-right: 0.2em;padding-left: 0.2em;position: relative;}#sk-container-id-4 div.sk-item {position: relative;z-index: 1;}#sk-container-id-4 div.sk-parallel {display: flex;align-items: stretch;justify-content: center;background-color: white;position: relative;}#sk-container-id-4 div.sk-item::before, #sk-container-id-4 div.sk-parallel-item::before {content: \"\";position: absolute;border-left: 1px solid gray;box-sizing: border-box;top: 0;bottom: 0;left: 50%;z-index: -1;}#sk-container-id-4 div.sk-parallel-item {display: flex;flex-direction: column;z-index: 1;position: relative;background-color: white;}#sk-container-id-4 div.sk-parallel-item:first-child::after {align-self: flex-end;width: 50%;}#sk-container-id-4 div.sk-parallel-item:last-child::after {align-self: flex-start;width: 50%;}#sk-container-id-4 div.sk-parallel-item:only-child::after {width: 0;}#sk-container-id-4 div.sk-dashed-wrapped {border: 1px dashed gray;margin: 0 0.4em 0.5em 0.4em;box-sizing: border-box;padding-bottom: 0.4em;background-color: white;}#sk-container-id-4 div.sk-label label {font-family: monospace;font-weight: bold;display: inline-block;line-height: 1.2em;}#sk-container-id-4 div.sk-label-container {text-align: center;}#sk-container-id-4 div.sk-container {/* jupyter's `normalize.less` sets `[hidden] { display: none; }` but bootstrap.min.css set `[hidden] { display: none !important; }` so we also need the `!important` here to be able to override the default hidden behavior on the sphinx rendered scikit-learn.org. See: https://github.com/scikit-learn/scikit-learn/issues/21755 */display: inline-block !important;position: relative;}#sk-container-id-4 div.sk-text-repr-fallback {display: none;}</style><div id=\"sk-container-id-4\" class=\"sk-top-container\"><div class=\"sk-text-repr-fallback\"><pre>RandomForestRegressor(max_depth=10, n_estimators=50, random_state=0)</pre><b>In a Jupyter environment, please rerun this cell to show the HTML representation or trust the notebook. <br />On GitHub, the HTML representation is unable to render, please try loading this page with nbviewer.org.</b></div><div class=\"sk-container\" hidden><div class=\"sk-item\"><div class=\"sk-estimator sk-toggleable\"><input class=\"sk-toggleable__control sk-hidden--visually\" id=\"sk-estimator-id-4\" type=\"checkbox\" checked><label for=\"sk-estimator-id-4\" class=\"sk-toggleable__label sk-toggleable__label-arrow\">RandomForestRegressor</label><div class=\"sk-toggleable__content\"><pre>RandomForestRegressor(max_depth=10, n_estimators=50, random_state=0)</pre></div></div></div></div></div>"
      ],
      "text/plain": [
       "RandomForestRegressor(max_depth=10, n_estimators=50, random_state=0)"
      ]
     },
     "execution_count": 24,
     "metadata": {},
     "output_type": "execute_result"
    }
   ],
   "source": [
    "v_model = RandomForestRegressor(n_estimators=50, max_depth=10, random_state=0)\n",
    "v_model.fit(bow_train, v_train)"
   ]
  },
  {
   "cell_type": "code",
   "execution_count": 25,
   "metadata": {},
   "outputs": [
    {
     "data": {
      "text/html": [
       "<style>#sk-container-id-5 {color: black;background-color: white;}#sk-container-id-5 pre{padding: 0;}#sk-container-id-5 div.sk-toggleable {background-color: white;}#sk-container-id-5 label.sk-toggleable__label {cursor: pointer;display: block;width: 100%;margin-bottom: 0;padding: 0.3em;box-sizing: border-box;text-align: center;}#sk-container-id-5 label.sk-toggleable__label-arrow:before {content: \"▸\";float: left;margin-right: 0.25em;color: #696969;}#sk-container-id-5 label.sk-toggleable__label-arrow:hover:before {color: black;}#sk-container-id-5 div.sk-estimator:hover label.sk-toggleable__label-arrow:before {color: black;}#sk-container-id-5 div.sk-toggleable__content {max-height: 0;max-width: 0;overflow: hidden;text-align: left;background-color: #f0f8ff;}#sk-container-id-5 div.sk-toggleable__content pre {margin: 0.2em;color: black;border-radius: 0.25em;background-color: #f0f8ff;}#sk-container-id-5 input.sk-toggleable__control:checked~div.sk-toggleable__content {max-height: 200px;max-width: 100%;overflow: auto;}#sk-container-id-5 input.sk-toggleable__control:checked~label.sk-toggleable__label-arrow:before {content: \"▾\";}#sk-container-id-5 div.sk-estimator input.sk-toggleable__control:checked~label.sk-toggleable__label {background-color: #d4ebff;}#sk-container-id-5 div.sk-label input.sk-toggleable__control:checked~label.sk-toggleable__label {background-color: #d4ebff;}#sk-container-id-5 input.sk-hidden--visually {border: 0;clip: rect(1px 1px 1px 1px);clip: rect(1px, 1px, 1px, 1px);height: 1px;margin: -1px;overflow: hidden;padding: 0;position: absolute;width: 1px;}#sk-container-id-5 div.sk-estimator {font-family: monospace;background-color: #f0f8ff;border: 1px dotted black;border-radius: 0.25em;box-sizing: border-box;margin-bottom: 0.5em;}#sk-container-id-5 div.sk-estimator:hover {background-color: #d4ebff;}#sk-container-id-5 div.sk-parallel-item::after {content: \"\";width: 100%;border-bottom: 1px solid gray;flex-grow: 1;}#sk-container-id-5 div.sk-label:hover label.sk-toggleable__label {background-color: #d4ebff;}#sk-container-id-5 div.sk-serial::before {content: \"\";position: absolute;border-left: 1px solid gray;box-sizing: border-box;top: 0;bottom: 0;left: 50%;z-index: 0;}#sk-container-id-5 div.sk-serial {display: flex;flex-direction: column;align-items: center;background-color: white;padding-right: 0.2em;padding-left: 0.2em;position: relative;}#sk-container-id-5 div.sk-item {position: relative;z-index: 1;}#sk-container-id-5 div.sk-parallel {display: flex;align-items: stretch;justify-content: center;background-color: white;position: relative;}#sk-container-id-5 div.sk-item::before, #sk-container-id-5 div.sk-parallel-item::before {content: \"\";position: absolute;border-left: 1px solid gray;box-sizing: border-box;top: 0;bottom: 0;left: 50%;z-index: -1;}#sk-container-id-5 div.sk-parallel-item {display: flex;flex-direction: column;z-index: 1;position: relative;background-color: white;}#sk-container-id-5 div.sk-parallel-item:first-child::after {align-self: flex-end;width: 50%;}#sk-container-id-5 div.sk-parallel-item:last-child::after {align-self: flex-start;width: 50%;}#sk-container-id-5 div.sk-parallel-item:only-child::after {width: 0;}#sk-container-id-5 div.sk-dashed-wrapped {border: 1px dashed gray;margin: 0 0.4em 0.5em 0.4em;box-sizing: border-box;padding-bottom: 0.4em;background-color: white;}#sk-container-id-5 div.sk-label label {font-family: monospace;font-weight: bold;display: inline-block;line-height: 1.2em;}#sk-container-id-5 div.sk-label-container {text-align: center;}#sk-container-id-5 div.sk-container {/* jupyter's `normalize.less` sets `[hidden] { display: none; }` but bootstrap.min.css set `[hidden] { display: none !important; }` so we also need the `!important` here to be able to override the default hidden behavior on the sphinx rendered scikit-learn.org. See: https://github.com/scikit-learn/scikit-learn/issues/21755 */display: inline-block !important;position: relative;}#sk-container-id-5 div.sk-text-repr-fallback {display: none;}</style><div id=\"sk-container-id-5\" class=\"sk-top-container\"><div class=\"sk-text-repr-fallback\"><pre>RandomForestRegressor(max_depth=10, n_estimators=50, random_state=0)</pre><b>In a Jupyter environment, please rerun this cell to show the HTML representation or trust the notebook. <br />On GitHub, the HTML representation is unable to render, please try loading this page with nbviewer.org.</b></div><div class=\"sk-container\" hidden><div class=\"sk-item\"><div class=\"sk-estimator sk-toggleable\"><input class=\"sk-toggleable__control sk-hidden--visually\" id=\"sk-estimator-id-5\" type=\"checkbox\" checked><label for=\"sk-estimator-id-5\" class=\"sk-toggleable__label sk-toggleable__label-arrow\">RandomForestRegressor</label><div class=\"sk-toggleable__content\"><pre>RandomForestRegressor(max_depth=10, n_estimators=50, random_state=0)</pre></div></div></div></div></div>"
      ],
      "text/plain": [
       "RandomForestRegressor(max_depth=10, n_estimators=50, random_state=0)"
      ]
     },
     "execution_count": 25,
     "metadata": {},
     "output_type": "execute_result"
    }
   ],
   "source": [
    "a_model = RandomForestRegressor(n_estimators=50, max_depth=10, random_state=0)\n",
    "a_model.fit(bow_train, a_train)"
   ]
  },
  {
   "cell_type": "code",
   "execution_count": 26,
   "metadata": {},
   "outputs": [
    {
     "data": {
      "text/html": [
       "<style>#sk-container-id-6 {color: black;background-color: white;}#sk-container-id-6 pre{padding: 0;}#sk-container-id-6 div.sk-toggleable {background-color: white;}#sk-container-id-6 label.sk-toggleable__label {cursor: pointer;display: block;width: 100%;margin-bottom: 0;padding: 0.3em;box-sizing: border-box;text-align: center;}#sk-container-id-6 label.sk-toggleable__label-arrow:before {content: \"▸\";float: left;margin-right: 0.25em;color: #696969;}#sk-container-id-6 label.sk-toggleable__label-arrow:hover:before {color: black;}#sk-container-id-6 div.sk-estimator:hover label.sk-toggleable__label-arrow:before {color: black;}#sk-container-id-6 div.sk-toggleable__content {max-height: 0;max-width: 0;overflow: hidden;text-align: left;background-color: #f0f8ff;}#sk-container-id-6 div.sk-toggleable__content pre {margin: 0.2em;color: black;border-radius: 0.25em;background-color: #f0f8ff;}#sk-container-id-6 input.sk-toggleable__control:checked~div.sk-toggleable__content {max-height: 200px;max-width: 100%;overflow: auto;}#sk-container-id-6 input.sk-toggleable__control:checked~label.sk-toggleable__label-arrow:before {content: \"▾\";}#sk-container-id-6 div.sk-estimator input.sk-toggleable__control:checked~label.sk-toggleable__label {background-color: #d4ebff;}#sk-container-id-6 div.sk-label input.sk-toggleable__control:checked~label.sk-toggleable__label {background-color: #d4ebff;}#sk-container-id-6 input.sk-hidden--visually {border: 0;clip: rect(1px 1px 1px 1px);clip: rect(1px, 1px, 1px, 1px);height: 1px;margin: -1px;overflow: hidden;padding: 0;position: absolute;width: 1px;}#sk-container-id-6 div.sk-estimator {font-family: monospace;background-color: #f0f8ff;border: 1px dotted black;border-radius: 0.25em;box-sizing: border-box;margin-bottom: 0.5em;}#sk-container-id-6 div.sk-estimator:hover {background-color: #d4ebff;}#sk-container-id-6 div.sk-parallel-item::after {content: \"\";width: 100%;border-bottom: 1px solid gray;flex-grow: 1;}#sk-container-id-6 div.sk-label:hover label.sk-toggleable__label {background-color: #d4ebff;}#sk-container-id-6 div.sk-serial::before {content: \"\";position: absolute;border-left: 1px solid gray;box-sizing: border-box;top: 0;bottom: 0;left: 50%;z-index: 0;}#sk-container-id-6 div.sk-serial {display: flex;flex-direction: column;align-items: center;background-color: white;padding-right: 0.2em;padding-left: 0.2em;position: relative;}#sk-container-id-6 div.sk-item {position: relative;z-index: 1;}#sk-container-id-6 div.sk-parallel {display: flex;align-items: stretch;justify-content: center;background-color: white;position: relative;}#sk-container-id-6 div.sk-item::before, #sk-container-id-6 div.sk-parallel-item::before {content: \"\";position: absolute;border-left: 1px solid gray;box-sizing: border-box;top: 0;bottom: 0;left: 50%;z-index: -1;}#sk-container-id-6 div.sk-parallel-item {display: flex;flex-direction: column;z-index: 1;position: relative;background-color: white;}#sk-container-id-6 div.sk-parallel-item:first-child::after {align-self: flex-end;width: 50%;}#sk-container-id-6 div.sk-parallel-item:last-child::after {align-self: flex-start;width: 50%;}#sk-container-id-6 div.sk-parallel-item:only-child::after {width: 0;}#sk-container-id-6 div.sk-dashed-wrapped {border: 1px dashed gray;margin: 0 0.4em 0.5em 0.4em;box-sizing: border-box;padding-bottom: 0.4em;background-color: white;}#sk-container-id-6 div.sk-label label {font-family: monospace;font-weight: bold;display: inline-block;line-height: 1.2em;}#sk-container-id-6 div.sk-label-container {text-align: center;}#sk-container-id-6 div.sk-container {/* jupyter's `normalize.less` sets `[hidden] { display: none; }` but bootstrap.min.css set `[hidden] { display: none !important; }` so we also need the `!important` here to be able to override the default hidden behavior on the sphinx rendered scikit-learn.org. See: https://github.com/scikit-learn/scikit-learn/issues/21755 */display: inline-block !important;position: relative;}#sk-container-id-6 div.sk-text-repr-fallback {display: none;}</style><div id=\"sk-container-id-6\" class=\"sk-top-container\"><div class=\"sk-text-repr-fallback\"><pre>RandomForestRegressor(max_depth=10, n_estimators=50, random_state=0)</pre><b>In a Jupyter environment, please rerun this cell to show the HTML representation or trust the notebook. <br />On GitHub, the HTML representation is unable to render, please try loading this page with nbviewer.org.</b></div><div class=\"sk-container\" hidden><div class=\"sk-item\"><div class=\"sk-estimator sk-toggleable\"><input class=\"sk-toggleable__control sk-hidden--visually\" id=\"sk-estimator-id-6\" type=\"checkbox\" checked><label for=\"sk-estimator-id-6\" class=\"sk-toggleable__label sk-toggleable__label-arrow\">RandomForestRegressor</label><div class=\"sk-toggleable__content\"><pre>RandomForestRegressor(max_depth=10, n_estimators=50, random_state=0)</pre></div></div></div></div></div>"
      ],
      "text/plain": [
       "RandomForestRegressor(max_depth=10, n_estimators=50, random_state=0)"
      ]
     },
     "execution_count": 26,
     "metadata": {},
     "output_type": "execute_result"
    }
   ],
   "source": [
    "d_model = RandomForestRegressor(n_estimators=50, max_depth=10, random_state=0)\n",
    "d_model.fit(bow_train, d_train)"
   ]
  },
  {
   "cell_type": "code",
   "execution_count": 48,
   "metadata": {},
   "outputs": [
    {
     "name": "stdout",
     "output_type": "stream",
     "text": [
      "Valence MSE: 2.52673, RMSE: 1.40352, R2: -0.28999\n",
      "Arousal MSE: 1.25895, RMSE: 0.92452, R2: -0.38434\n",
      "Dominance MSE: 1.15450, RMSE: 0.92377, R2: -0.19448\n"
     ]
    }
   ],
   "source": [
    "v_pred = v_model.predict(bow_test)\n",
    "a_pred = a_model.predict(bow_test)\n",
    "d_pred = d_model.predict(bow_test)\n",
    "\n",
    "v_pred = np.clip(v_pred, 0, 10)\n",
    "a_pred = np.clip(a_pred, 0, 10)\n",
    "d_pred = np.clip(d_pred, 0, 10)\n",
    "\n",
    "v_mse = mean_squared_error(v_test, v_pred)\n",
    "a_mse = mean_squared_error(a_test, a_pred)\n",
    "d_mse = mean_squared_error(d_test, d_pred)\n",
    "\n",
    "v_mae = mean_absolute_error(v_test, v_pred)\n",
    "a_mae = mean_absolute_error(a_test, a_pred)\n",
    "d_mae = mean_absolute_error(d_test, d_pred)\n",
    "\n",
    "v_r2 = r2_score(v_test, v_pred)\n",
    "a_r2 = r2_score(a_test, a_pred)\n",
    "d_r2 = r2_score(d_test, d_pred)\n",
    "\n",
    "\n",
    "print(f\"Valence MSE: {v_mse:.5f}, MAE: {v_mae:.5f}, R2: {v_r2:.5f}\")\n",
    "print(f\"Arousal MSE: {a_mse:.5f}, MAE: {a_mae:.5f}, R2: {a_r2:.5f}\")\n",
    "print(f\"Dominance MSE: {d_mse:.5f}, MAE: {d_mae:.5f}, R2: {d_r2:.5f}\")"
   ]
  },
  {
   "cell_type": "markdown",
   "metadata": {},
   "source": [
    "### Grid Search"
   ]
  },
  {
   "cell_type": "markdown",
   "metadata": {},
   "source": [
    "\n",
    "#### Valence"
   ]
  },
  {
   "cell_type": "code",
   "execution_count": 36,
   "metadata": {},
   "outputs": [],
   "source": [
    "param_grid = {\n",
    "    'n_estimators': [17],\n",
    "    'max_depth': [2],\n",
    "    'min_samples_split': [2],\n",
    "    'min_samples_leaf': [1],\n",
    "    # 'max_features': [1.0, 'sqrt'],\n",
    "    # 'bootstrap': [True, False],\n",
    "    # 'criterion': ['squared_error', 'absolute_error', 'friedman_mse', 'poisson'],\n",
    "}\n",
    "\n",
    "model = RandomForestRegressor(random_state=0, )\n",
    "\n",
    "grid_search = GridSearchCV(estimator=model, param_grid=param_grid, scoring='neg_mean_squared_error', cv=5)\n",
    "grid_search.fit(bow_train, v_train)\n",
    "\n",
    "best_params = grid_search.best_params_\n",
    "best_v = grid_search.best_estimator_"
   ]
  },
  {
   "cell_type": "code",
   "execution_count": 37,
   "metadata": {},
   "outputs": [
    {
     "data": {
      "text/plain": [
       "{'max_depth': 2,\n",
       " 'min_samples_leaf': 1,\n",
       " 'min_samples_split': 2,\n",
       " 'n_estimators': 17}"
      ]
     },
     "execution_count": 37,
     "metadata": {},
     "output_type": "execute_result"
    }
   ],
   "source": [
    "best_params"
   ]
  },
  {
   "cell_type": "code",
   "execution_count": 38,
   "metadata": {},
   "outputs": [
    {
     "data": {
      "text/plain": [
       "2.331021041360488"
      ]
     },
     "execution_count": 38,
     "metadata": {},
     "output_type": "execute_result"
    }
   ],
   "source": [
    "v_pred = best_v.predict(bow_test)\n",
    "v_pred = np.clip(v_pred, 0, 10)\n",
    "\n",
    "v_mse = mean_squared_error(v_test, v_pred)\n",
    "v_mse"
   ]
  },
  {
   "cell_type": "markdown",
   "metadata": {},
   "source": [
    "#### Arousal"
   ]
  },
  {
   "cell_type": "code",
   "execution_count": 39,
   "metadata": {},
   "outputs": [],
   "source": [
    "param_grid = {\n",
    "    'n_estimators': [50],\n",
    "    'max_depth': [3],\n",
    "    'min_samples_split': [2],\n",
    "    'min_samples_leaf': [1],\n",
    "    # 'max_features': [1.0, 'sqrt'],\n",
    "    # 'bootstrap': [True, False],\n",
    "    # 'criterion': ['squared_error', 'absolute_error', 'friedman_mse', 'poisson'],\n",
    "\n",
    "}\n",
    "\n",
    "model = RandomForestRegressor(random_state=0)\n",
    "\n",
    "grid_search = GridSearchCV(estimator=model, param_grid=param_grid, scoring='neg_mean_squared_error', cv=5)\n",
    "grid_search.fit(bow_train, a_train)\n",
    "\n",
    "best_params = grid_search.best_params_\n",
    "best_a = grid_search.best_estimator_"
   ]
  },
  {
   "cell_type": "code",
   "execution_count": 40,
   "metadata": {},
   "outputs": [
    {
     "data": {
      "text/plain": [
       "{'max_depth': 3,\n",
       " 'min_samples_leaf': 1,\n",
       " 'min_samples_split': 2,\n",
       " 'n_estimators': 50}"
      ]
     },
     "execution_count": 40,
     "metadata": {},
     "output_type": "execute_result"
    }
   ],
   "source": [
    "best_params"
   ]
  },
  {
   "cell_type": "code",
   "execution_count": 41,
   "metadata": {},
   "outputs": [
    {
     "data": {
      "text/plain": [
       "1.2280484557906886"
      ]
     },
     "execution_count": 41,
     "metadata": {},
     "output_type": "execute_result"
    }
   ],
   "source": [
    "a_pred = best_a.predict(bow_test)\n",
    "a_pred = np.clip(a_pred, 0, 10)\n",
    "\n",
    "a_mse = mean_squared_error(a_test, a_pred)\n",
    "a_mse"
   ]
  },
  {
   "cell_type": "markdown",
   "metadata": {},
   "source": [
    "#### Dominance"
   ]
  },
  {
   "cell_type": "code",
   "execution_count": 42,
   "metadata": {},
   "outputs": [],
   "source": [
    "param_grid = {\n",
    "    'n_estimators': [45],\n",
    "    'max_depth': [5],\n",
    "    'min_samples_split': [2],\n",
    "    'min_samples_leaf': [1],\n",
    "    # 'max_features': [1.0, 'sqrt'],\n",
    "    # 'bootstrap': [True, False],\n",
    "    # 'criterion': ['squared_error', 'absolute_error', 'friedman_mse', 'poisson'],\n",
    "\n",
    "}\n",
    "\n",
    "model = RandomForestRegressor(random_state=0)\n",
    "\n",
    "grid_search = GridSearchCV(estimator=model, param_grid=param_grid, scoring='neg_mean_squared_error', cv=5)\n",
    "grid_search.fit(bow_train, d_train)\n",
    "\n",
    "best_params = grid_search.best_params_\n",
    "best_d = grid_search.best_estimator_"
   ]
  },
  {
   "cell_type": "code",
   "execution_count": 43,
   "metadata": {},
   "outputs": [
    {
     "data": {
      "text/plain": [
       "{'max_depth': 5,\n",
       " 'min_samples_leaf': 1,\n",
       " 'min_samples_split': 2,\n",
       " 'n_estimators': 45}"
      ]
     },
     "execution_count": 43,
     "metadata": {},
     "output_type": "execute_result"
    }
   ],
   "source": [
    "best_params"
   ]
  },
  {
   "cell_type": "code",
   "execution_count": 44,
   "metadata": {},
   "outputs": [
    {
     "data": {
      "text/plain": [
       "1.1017151360635722"
      ]
     },
     "execution_count": 44,
     "metadata": {},
     "output_type": "execute_result"
    }
   ],
   "source": [
    "d_pred = best_d.predict(bow_test)\n",
    "d_pred = np.clip(d_pred, 0, 10)\n",
    "\n",
    "d_mse = mean_squared_error(d_test, d_pred)\n",
    "d_mse"
   ]
  },
  {
   "cell_type": "markdown",
   "metadata": {},
   "source": [
    "### Grid Search Results"
   ]
  },
  {
   "cell_type": "code",
   "execution_count": 46,
   "metadata": {},
   "outputs": [
    {
     "name": "stdout",
     "output_type": "stream",
     "text": [
      "Valence MSE: 2.33102, MAE: 1.34647\n",
      "Arousal MSE: 1.22805, MAE: 0.94095\n",
      "Dominance MSE: 1.10172, MAE: 0.91243\n"
     ]
    }
   ],
   "source": [
    "v_mae = mean_absolute_error(v_test, v_pred)\n",
    "a_mae = mean_absolute_error(a_test, a_pred)\n",
    "d_mae = mean_absolute_error(d_test, d_pred)\n",
    "\n",
    "print(f\"Valence MSE: {v_mse:.5f}, MAE: {v_mae:.5f}\")\n",
    "print(f\"Arousal MSE: {a_mse:.5f}, MAE: {a_mae:.5f}\")\n",
    "print(f\"Dominance MSE: {d_mse:.5f}, MAE: {d_mae:.5f}\")"
   ]
  }
 ],
 "metadata": {
  "kernelspec": {
   "display_name": "Python 3",
   "language": "python",
   "name": "python3"
  },
  "language_info": {
   "codemirror_mode": {
    "name": "ipython",
    "version": 3
   },
   "file_extension": ".py",
   "mimetype": "text/x-python",
   "name": "python",
   "nbconvert_exporter": "python",
   "pygments_lexer": "ipython3",
   "version": "3.10.12"
  }
 },
 "nbformat": 4,
 "nbformat_minor": 2
}
