{
 "cells": [
  {
   "cell_type": "code",
   "execution_count": 1,
   "metadata": {},
   "outputs": [],
   "source": [
    "import tables\n",
    "import os\n",
    "import hdf5_getters as h5\n",
    "import json\n",
    "\n",
    "# http://millionsongdataset.com/\n",
    "MSD = './MillionSongSubset'\n",
    "\n",
    "# http://millionsongdataset.com/lastfm/#api\n",
    "LAST = \"./lastfm_train\"\n",
    "\n",
    "# https://core.ac.uk/download/pdf/76535286.pdf"
   ]
  },
  {
   "cell_type": "code",
   "execution_count": 61,
   "metadata": {},
   "outputs": [],
   "source": [
    "def dig(path, ftype):\n",
    "    \"\"\"\n",
    "    returns list of all files of the specified extension in every recursive subdirectory in a given parent dir\n",
    "    \"\"\"\n",
    "    paths = []\n",
    "    for dirpath, _, files in os.walk(path):\n",
    "        paths += [(dirpath + \"/\" + f) for f in files if f.endswith(ftype)]\n",
    "    return paths"
   ]
  },
  {
   "cell_type": "code",
   "execution_count": 8,
   "metadata": {},
   "outputs": [
    {
     "name": "stdout",
     "output_type": "stream",
     "text": [
      "./MillionSongSubset/A/X/X/TRAXXQA128F9301855.h5\n"
     ]
    }
   ],
   "source": [
    "# dig for files\n",
    "files = dig(MSD, \".h5\")\n",
    "# print example\n",
    "print(files[1])"
   ]
  },
  {
   "cell_type": "code",
   "execution_count": 12,
   "metadata": {},
   "outputs": [],
   "source": [
    "def get_features(h5_file):\n",
    "    with tables.open_file(h5_file, mode='r') as h5:\n",
    "        feats = h5.root.analysis.songs.cols\n",
    "        return feats"
   ]
  },
  {
   "cell_type": "code",
   "execution_count": 88,
   "metadata": {},
   "outputs": [
    {
     "name": "stdout",
     "output_type": "stream",
     "text": [
      "Artist b'Our Time Down Here'\n",
      "Song b'Big Guys Throw Cones'\n",
      "Album b'Live_ Love_ Let Go'\n",
      "Familiarity 0.5188067600066829\n",
      "Hotttnesss 0.42968916619680797\n",
      "Danceability 0.0\n",
      "artistid b'ARYA9ZH119B8668A81'\n"
     ]
    }
   ],
   "source": [
    "\n",
    "with tables.open_file(files[4050], mode='r') as f:\n",
    "    print(\"Artist\", h5.get_artist_name(f))\n",
    "    print(\"Song\", h5.get_title(f))\n",
    "    print(\"Album\", h5.get_release(f))\n",
    "    print(\"Familiarity\", h5.get_artist_familiarity(f))\n",
    "    print(\"Hotttnesss\", h5.get_artist_hotttnesss(f))\n",
    "    print(\"Danceability\", h5.get_danceability(f))\n",
    "    print(\"artistid\", h5.get_artist_id(f))"
   ]
  },
  {
   "cell_type": "code",
   "execution_count": 62,
   "metadata": {},
   "outputs": [],
   "source": [
    "lastfm = dig(LAST, \".json\")"
   ]
  },
  {
   "cell_type": "code",
   "execution_count": 90,
   "metadata": {},
   "outputs": [
    {
     "name": "stdout",
     "output_type": "stream",
     "text": [
      "Our Time Down Here Big Guys Throw Cones [['seen live', '100']]\n"
     ]
    }
   ],
   "source": [
    "with open(lastfm[210000]) as f:\n",
    "    data = json.load(f)\n",
    "    print(data[\"artist\"], data[\"title\"], data[\"tags\"])"
   ]
  },
  {
   "cell_type": "code",
   "execution_count": 86,
   "metadata": {},
   "outputs": [
    {
     "name": "stdout",
     "output_type": "stream",
     "text": [
      "4050\n"
     ]
    }
   ],
   "source": []
  }
 ],
 "metadata": {
  "kernelspec": {
   "display_name": "Python 3",
   "language": "python",
   "name": "python3"
  },
  "language_info": {
   "codemirror_mode": {
    "name": "ipython",
    "version": 3
   },
   "file_extension": ".py",
   "mimetype": "text/x-python",
   "name": "python",
   "nbconvert_exporter": "python",
   "pygments_lexer": "ipython3",
   "version": "3.10.12"
  }
 },
 "nbformat": 4,
 "nbformat_minor": 2
}
