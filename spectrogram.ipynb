{
 "cells": [
  {
   "cell_type": "code",
   "execution_count": 1,
   "metadata": {},
   "outputs": [],
   "source": [
    "import librosa\n",
    "import librosa.display\n",
    "import matplotlib.pyplot as plt\n",
    "import numpy as np\n",
    "from matplotlib.backends.backend_agg import FigureCanvasAgg\n",
    "import torch.optim as optim\n",
    "import os\n",
    "\n",
    "from PIL import Image\n",
    "\n",
    "import matplotlib.pyplot as plt\n",
    "\n",
    "def song_to_spectrogram(song_path, length_sec=30, save_image=True, save_name=\"spectrogram.png\"):\n",
    "    y, sr = librosa.load(song_path)\n",
    "    y = y[:sr * length_sec]\n",
    "\n",
    "    S = librosa.feature.melspectrogram(y=y, sr=sr, hop_length=512)\n",
    "    S_DB = librosa.amplitude_to_db(S, ref=np.max)\n",
    "\n",
    "    desired_width = 336\n",
    "\n",
    "    dpi = int(desired_width / plt.figure(figsize=(desired_width / 80, 4)).get_figwidth())\n",
    "    plt.close('all')\n",
    "\n",
    "    width = desired_width / dpi\n",
    "    fig = plt.figure(figsize=(width, width / 3 * 2))\n",
    "    librosa.display.specshow(S_DB, sr=sr, hop_length=512, x_axis='time', y_axis='mel')\n",
    "    plt.gca().set_axis_off()\n",
    "\n",
    "    canvas = FigureCanvasAgg(fig)\n",
    "    canvas.draw()\n",
    "    image_array = np.frombuffer(canvas.tostring_rgb(), dtype='uint8')\n",
    "    image_array = image_array.reshape(fig.canvas.get_width_height()[::-1] + (3,))\n",
    "    image = Image.fromarray(image_array)\n",
    "\n",
    "    new_size = (432, 288)\n",
    "\n",
    "    resized_image = image.resize(new_size, Image.LANCZOS)\n",
    "    resized_image_data = np.array(resized_image)\n",
    "\n",
    "    if save_image:\n",
    "        resized_image.save(save_name)\n",
    "        print(\"Spectrogram saved at \" + save_name)\n",
    "\n",
    "    plt.close(fig)\n",
    "\n",
    "    return resized_image_data\n"
   ]
  },
  {
   "cell_type": "code",
   "execution_count": 2,
   "metadata": {},
   "outputs": [],
   "source": [
    "def dig(path, ftype):\n",
    "    \"\"\"\n",
    "    returns list of all files of the specified extension in every recursive subdirectory in a given parent dir\n",
    "    \"\"\"\n",
    "    paths = []\n",
    "    for dirpath, _, files in os.walk(path):\n",
    "        paths += [(dirpath + \"/\" + f) for f in files if f.endswith(ftype)]\n",
    "    return paths"
   ]
  },
  {
   "cell_type": "code",
   "execution_count": 3,
   "metadata": {},
   "outputs": [],
   "source": [
    "audio_paths = dig(\"./DEAM_audio\", \"mp3\")"
   ]
  },
  {
   "cell_type": "code",
   "execution_count": 5,
   "metadata": {},
   "outputs": [],
   "source": [
    "for audio_path in audio_paths:\n",
    "    if not os.path.exists(f\"./DEAM_img/{audio_path[13:-4]}.png\"):\n",
    "        _ = song_to_spectrogram(audio_path, 46, save_name=f\"./DEAM_img/{audio_path[13:-4]}.png\")"
   ]
  }
 ],
 "metadata": {
  "kernelspec": {
   "display_name": "Python 3",
   "language": "python",
   "name": "python3"
  },
  "language_info": {
   "codemirror_mode": {
    "name": "ipython",
    "version": 3
   },
   "file_extension": ".py",
   "mimetype": "text/x-python",
   "name": "python",
   "nbconvert_exporter": "python",
   "pygments_lexer": "ipython3",
   "version": "3.10.12"
  }
 },
 "nbformat": 4,
 "nbformat_minor": 2
}
