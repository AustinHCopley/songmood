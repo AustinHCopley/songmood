{
 "cells": [
  {
   "cell_type": "code",
   "execution_count": 13,
   "metadata": {},
   "outputs": [],
   "source": [
    "import pandas as pd\n",
    "from sklearn.feature_extraction.text import TfidfVectorizer\n",
    "from sklearn.cluster import AgglomerativeClustering"
   ]
  },
  {
   "cell_type": "code",
   "execution_count": 19,
   "metadata": {},
   "outputs": [
    {
     "name": "stdout",
     "output_type": "stream",
     "text": [
      "       tagID           tagValue\n",
      "0          1              metal\n",
      "1          2  alternative metal\n",
      "2          3          goth rock\n",
      "3          4        black metal\n",
      "4          5        death metal\n",
      "...      ...                ...\n",
      "11941  12644              suomi\n",
      "11942  12645          symbiosis\n",
      "11943  12646            sverige\n",
      "11944  12647               eire\n",
      "11945  12648     electro latino\n",
      "\n",
      "[11946 rows x 2 columns]\n"
     ]
    }
   ],
   "source": [
    "# tag_id to tag_name\n",
    "tag_data = pd.read_csv('tags.dat', sep='\\t', header=0, names=['tagID', 'tagValue'], encoding=\"ISO-8859-1\")\n",
    "\n",
    "print(tag_data)"
   ]
  },
  {
   "cell_type": "code",
   "execution_count": 4,
   "metadata": {},
   "outputs": [
    {
     "name": "stdout",
     "output_type": "stream",
     "text": [
      "<bound method NDFrame.head of           tag_id tag_name\n",
      "userID  artistID   weight\n",
      "2             51    13883\n",
      "2             52    11690\n",
      "2             53    11351\n",
      "2             54    10300\n",
      "...          ...      ...\n",
      "2100       18726      337\n",
      "2100       18727      297\n",
      "2100       18728      281\n",
      "2100       18729      280\n",
      "2100       18730      263\n",
      "\n",
      "[92835 rows x 2 columns]>\n",
      "          tag_id tag_name\n",
      "userID  artistID   weight\n",
      "2             51    13883\n",
      "2             52    11690\n",
      "2             53    11351\n",
      "2             54    10300\n",
      "...          ...      ...\n",
      "2100       18726      337\n",
      "2100       18727      297\n",
      "2100       18728      281\n",
      "2100       18729      280\n",
      "2100       18730      263\n",
      "\n",
      "[92835 rows x 2 columns]\n"
     ]
    }
   ],
   "source": [
    "user_artists = pd.read_csv('user_artists.dat', sep='\\t', header=None, names=['tag_id', 'tag_name'], encoding=\"ISO-8859-1\")\n",
    "print(user_artists)"
   ]
  },
  {
   "cell_type": "code",
   "execution_count": 5,
   "metadata": {},
   "outputs": [
    {
     "name": "stderr",
     "output_type": "stream",
     "text": [
      "/tmp/ipykernel_8478/4195002848.py:1: DtypeWarning: Columns (0,1,2,3,4,5) have mixed types. Specify dtype option on import or set low_memory=False.\n",
      "  user_taggedartists = pd.read_csv('user_taggedartists.dat', sep='\\t', header=None, names=['tag_id', 'tag_name'], encoding=\"ISO-8859-1\")\n"
     ]
    },
    {
     "name": "stdout",
     "output_type": "stream",
     "text": [
      "                          tag_id tag_name\n",
      "userID artistID tagID day  month     year\n",
      "2      52       13    1        4     2009\n",
      "                15    1        4     2009\n",
      "                18    1        4     2009\n",
      "                21    1        4     2009\n",
      "...                          ...      ...\n",
      "2100   16437    4     1        7     2010\n",
      "                292   1        5     2010\n",
      "                2087  1        7     2010\n",
      "                2801  1        5     2010\n",
      "                3335  1        7     2010\n",
      "\n",
      "[186480 rows x 2 columns]\n"
     ]
    }
   ],
   "source": [
    "user_taggedartists = pd.read_csv('user_taggedartists.dat', sep='\\t', header=None, names=['tag_id', 'tag_name'], encoding=\"ISO-8859-1\")\n",
    "print(user_taggedartists)"
   ]
  },
  {
   "cell_type": "code",
   "execution_count": null,
   "metadata": {},
   "outputs": [],
   "source": [
    "tfidf_vectorizer = TfidfVectorizer()\n",
    "tag_vectors = tfidf_vectorizer.fit_transform(tag_data['tagValue'])"
   ]
  },
  {
   "cell_type": "code",
   "execution_count": null,
   "metadata": {},
   "outputs": [],
   "source": [
    "agg_clustering = AgglomerativeClustering(n_clusters=None, distance_threshold=0.5, linkage='ward')\n",
    "agg_clustering.fit(tag_vectors.toarray())"
   ]
  },
  {
   "cell_type": "code",
   "execution_count": 24,
   "metadata": {},
   "outputs": [],
   "source": [
    "agg_clustering = AgglomerativeClustering(n_clusters=4, linkage='ward')\n",
    "clusters = agg_clustering.fit_predict(tag_vectors.toarray())\n",
    "\n",
    "tag_data['cluster'] = clusters"
   ]
  },
  {
   "cell_type": "code",
   "execution_count": 29,
   "metadata": {},
   "outputs": [
    {
     "data": {
      "text/plain": [
       "0        0\n",
       "1        0\n",
       "2        0\n",
       "3        0\n",
       "4        0\n",
       "        ..\n",
       "11941    1\n",
       "11942    1\n",
       "11943    1\n",
       "11944    1\n",
       "11945    0\n",
       "Name: cluster, Length: 11946, dtype: int64"
      ]
     },
     "execution_count": 29,
     "metadata": {},
     "output_type": "execute_result"
    }
   ],
   "source": [
    "tag_data[\"cluster\"]"
   ]
  },
  {
   "cell_type": "code",
   "execution_count": 27,
   "metadata": {},
   "outputs": [],
   "source": [
    "tag_data.to_csv(\"clustered_tags.csv\")"
   ]
  },
  {
   "cell_type": "code",
   "execution_count": 30,
   "metadata": {},
   "outputs": [
    {
     "data": {
      "text/plain": [
       "<bound method NDFrame.head of        Unnamed: 0  tagID           tagValue  cluster\n",
       "0               0      1              metal        0\n",
       "1               1      2  alternative metal        0\n",
       "2               2      3          goth rock        0\n",
       "3               3      4        black metal        0\n",
       "4               4      5        death metal        0\n",
       "...           ...    ...                ...      ...\n",
       "11941       11941  12644              suomi        1\n",
       "11942       11942  12645          symbiosis        1\n",
       "11943       11943  12646            sverige        1\n",
       "11944       11944  12647               eire        1\n",
       "11945       11945  12648     electro latino        0\n",
       "\n",
       "[11946 rows x 4 columns]>"
      ]
     },
     "execution_count": 30,
     "metadata": {},
     "output_type": "execute_result"
    }
   ],
   "source": [
    "clustered_tags = pd.read_csv(\"clustered_tags.csv\")\n",
    "clustered_tags"
   ]
  },
  {
   "cell_type": "code",
   "execution_count": 32,
   "metadata": {},
   "outputs": [
    {
     "name": "stdout",
     "output_type": "stream",
     "text": [
      "0                     metal\n",
      "1         alternative metal\n",
      "2                 goth rock\n",
      "3               black metal\n",
      "4               death metal\n",
      "                ...        \n",
      "11921              punk-hop\n",
      "11925      second wave goth\n",
      "11928          fitness rock\n",
      "11934    christian & gospel\n",
      "11945        electro latino\n",
      "Name: tagValue, Length: 1962, dtype: object\n"
     ]
    }
   ],
   "source": [
    "print(clustered_tags[clustered_tags[\"cluster\"] == 0][\"tagValue\"])"
   ]
  },
  {
   "cell_type": "code",
   "execution_count": 33,
   "metadata": {},
   "outputs": [
    {
     "data": {
      "text/plain": [
       "7           terror ebm\n",
       "9            harsh ebm\n",
       "11           aggrotech\n",
       "12            chillout\n",
       "14           downtempo\n",
       "             ...      \n",
       "11940    scott pilgrim\n",
       "11941            suomi\n",
       "11942        symbiosis\n",
       "11943          sverige\n",
       "11944             eire\n",
       "Name: tagValue, Length: 9677, dtype: object"
      ]
     },
     "execution_count": 33,
     "metadata": {},
     "output_type": "execute_result"
    }
   ],
   "source": [
    "clustered_tags[clustered_tags[\"cluster\"] == 1][\"tagValue\"]"
   ]
  },
  {
   "cell_type": "code",
   "execution_count": 34,
   "metadata": {},
   "outputs": [
    {
     "data": {
      "text/plain": [
       "101                                     hip-hop\n",
       "112                            hip hop angolano\n",
       "113                                luso hip hop\n",
       "299                               greek hip-hop\n",
       "303                                     hip hop\n",
       "751                        instrumental hip-hop\n",
       "1207                           japanese hip-hop\n",
       "1548                           queen of hip hop\n",
       "2341                       instrumental hip hop\n",
       "3064                             gothic hip-hop\n",
       "3478                               real hip-hop\n",
       "4355                               indy hip-hop\n",
       "4416                        alternative hip-hop\n",
       "5832                 hip hop screamo electronic\n",
       "5848                                hip hopcore\n",
       "5854                             korean hip hop\n",
       "5924                                hip hop/rap\n",
       "5926                                 uk hip hop\n",
       "6128                            hip-hop and pop\n",
       "6309                       hip hop instrumental\n",
       "6318                 a mix of indie and hip hop\n",
       "7092                             german hip-hop\n",
       "7858                                 polski rap\n",
       "7864                             polish hip-hop\n",
       "7865                             polski hip hop\n",
       "7898                                rap hip hop\n",
       "8090                          avangarde hip hop\n",
       "9195                                        hip\n",
       "9203                             hip-hop latino\n",
       "9480                                hip hop sul\n",
       "9830                            hip hop classic\n",
       "10010                                 k-hip hop\n",
       "10012                                 c-hip hop\n",
       "10036                      experimental hip-hop\n",
       "10251    hip hop techno electronica beggars rap\n",
       "10507                     intergalactic hip-hop\n",
       "10670                        hip-hop industrial\n",
       "10924                       undergroung hip-hop\n",
       "10926                             hip-hop kovsh\n",
       "10927                          graffity hip hop\n",
       "10950                              hip hop soul\n",
       "10952                       alternative hip hop\n",
       "11048                            german hip hop\n",
       "11244                            future hip-hop\n",
       "11334                        epitome of hip hop\n",
       "11442                           best of hip hop\n",
       "11446                           hip hop and rap\n",
       "11455                          deutsche hip-hop\n",
       "Name: tagValue, dtype: object"
      ]
     },
     "execution_count": 34,
     "metadata": {},
     "output_type": "execute_result"
    }
   ],
   "source": [
    "clustered_tags[clustered_tags[\"cluster\"] == 2][\"tagValue\"]"
   ]
  },
  {
   "cell_type": "code",
   "execution_count": 37,
   "metadata": {},
   "outputs": [
    {
     "data": {
      "text/plain": [
       "119             world music\n",
       "298                   world\n",
       "302                x factor\n",
       "365             best of pop\n",
       "394             king of pop\n",
       "                ...        \n",
       "11838            best songs\n",
       "11846       worst song ever\n",
       "11873    original hard rock\n",
       "11880      the spill canvas\n",
       "11899             the faint\n",
       "Name: tagValue, Length: 259, dtype: object"
      ]
     },
     "execution_count": 37,
     "metadata": {},
     "output_type": "execute_result"
    }
   ],
   "source": [
    "clustered_tags[clustered_tags[\"cluster\"] == 3][\"tagValue\"]"
   ]
  }
 ],
 "metadata": {
  "kernelspec": {
   "display_name": "Python 3",
   "language": "python",
   "name": "python3"
  },
  "language_info": {
   "codemirror_mode": {
    "name": "ipython",
    "version": 3
   },
   "file_extension": ".py",
   "mimetype": "text/x-python",
   "name": "python",
   "nbconvert_exporter": "python",
   "pygments_lexer": "ipython3",
   "version": "3.10.12"
  }
 },
 "nbformat": 4,
 "nbformat_minor": 2
}
