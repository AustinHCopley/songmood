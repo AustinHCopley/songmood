{
 "cells": [
  {
   "cell_type": "code",
   "execution_count": 13,
   "metadata": {},
   "outputs": [],
   "source": [
    "import pandas as pd\n",
    "from sklearn.feature_extraction.text import TfidfVectorizer\n",
    "from sklearn.cluster import AgglomerativeClustering\n",
    "import scipy.cluster.hierarchy as sch\n",
    "import matplotlib.pyplot as plt"
   ]
  },
  {
   "cell_type": "code",
   "execution_count": 19,
   "metadata": {},
   "outputs": [
    {
     "name": "stdout",
     "output_type": "stream",
     "text": [
      "       tagID           tagValue\n",
      "0          1              metal\n",
      "1          2  alternative metal\n",
      "2          3          goth rock\n",
      "3          4        black metal\n",
      "4          5        death metal\n",
      "...      ...                ...\n",
      "11941  12644              suomi\n",
      "11942  12645          symbiosis\n",
      "11943  12646            sverige\n",
      "11944  12647               eire\n",
      "11945  12648     electro latino\n",
      "\n",
      "[11946 rows x 2 columns]\n"
     ]
    }
   ],
   "source": [
    "# tag_id to tag_name\n",
    "tag_data = pd.read_csv('tags.dat', sep='\\t', header=0, names=['tagID', 'tagValue'], encoding=\"ISO-8859-1\")\n",
    "\n",
    "print(tag_data)"
   ]
  },
  {
   "cell_type": "code",
   "execution_count": 4,
   "metadata": {},
   "outputs": [
    {
     "name": "stdout",
     "output_type": "stream",
     "text": [
      "<bound method NDFrame.head of           tag_id tag_name\n",
      "userID  artistID   weight\n",
      "2             51    13883\n",
      "2             52    11690\n",
      "2             53    11351\n",
      "2             54    10300\n",
      "...          ...      ...\n",
      "2100       18726      337\n",
      "2100       18727      297\n",
      "2100       18728      281\n",
      "2100       18729      280\n",
      "2100       18730      263\n",
      "\n",
      "[92835 rows x 2 columns]>\n",
      "          tag_id tag_name\n",
      "userID  artistID   weight\n",
      "2             51    13883\n",
      "2             52    11690\n",
      "2             53    11351\n",
      "2             54    10300\n",
      "...          ...      ...\n",
      "2100       18726      337\n",
      "2100       18727      297\n",
      "2100       18728      281\n",
      "2100       18729      280\n",
      "2100       18730      263\n",
      "\n",
      "[92835 rows x 2 columns]\n"
     ]
    }
   ],
   "source": [
    "user_artists = pd.read_csv('user_artists.dat', sep='\\t', header=None, names=['tag_id', 'tag_name'], encoding=\"ISO-8859-1\")\n",
    "print(user_artists)"
   ]
  },
  {
   "cell_type": "code",
   "execution_count": 5,
   "metadata": {},
   "outputs": [
    {
     "name": "stderr",
     "output_type": "stream",
     "text": [
      "/tmp/ipykernel_8478/4195002848.py:1: DtypeWarning: Columns (0,1,2,3,4,5) have mixed types. Specify dtype option on import or set low_memory=False.\n",
      "  user_taggedartists = pd.read_csv('user_taggedartists.dat', sep='\\t', header=None, names=['tag_id', 'tag_name'], encoding=\"ISO-8859-1\")\n"
     ]
    },
    {
     "name": "stdout",
     "output_type": "stream",
     "text": [
      "                          tag_id tag_name\n",
      "userID artistID tagID day  month     year\n",
      "2      52       13    1        4     2009\n",
      "                15    1        4     2009\n",
      "                18    1        4     2009\n",
      "                21    1        4     2009\n",
      "...                          ...      ...\n",
      "2100   16437    4     1        7     2010\n",
      "                292   1        5     2010\n",
      "                2087  1        7     2010\n",
      "                2801  1        5     2010\n",
      "                3335  1        7     2010\n",
      "\n",
      "[186480 rows x 2 columns]\n"
     ]
    }
   ],
   "source": [
    "user_taggedartists = pd.read_csv('user_taggedartists.dat', sep='\\t', header=None, names=['tag_id', 'tag_name'], encoding=\"ISO-8859-1\")\n",
    "print(user_taggedartists)"
   ]
  },
  {
   "cell_type": "code",
   "execution_count": null,
   "metadata": {},
   "outputs": [],
   "source": [
    "tfidf_vectorizer = TfidfVectorizer()\n",
    "tag_vectors = tfidf_vectorizer.fit_transform(tag_data['tagValue'])"
   ]
  },
  {
   "cell_type": "code",
   "execution_count": null,
   "metadata": {},
   "outputs": [],
   "source": [
    "agg_clustering = AgglomerativeClustering(n_clusters=None, distance_threshold=0.5, linkage='ward')\n",
    "agg_clustering.fit(tag_vectors.toarray())"
   ]
  },
  {
   "cell_type": "code",
   "execution_count": 23,
   "metadata": {},
   "outputs": [
    {
     "ename": "KeyboardInterrupt",
     "evalue": "",
     "output_type": "error",
     "traceback": [
      "\u001b[0;31m---------------------------------------------------------------------------\u001b[0m",
      "\u001b[0;31mKeyboardInterrupt\u001b[0m                         Traceback (most recent call last)",
      "\u001b[1;32m/home/austin/Documents/class/NeuralNetworks/songmood/last_fm.ipynb Cell 11\u001b[0m line \u001b[0;36m2\n\u001b[1;32m      <a href='vscode-notebook-cell:/home/austin/Documents/class/NeuralNetworks/songmood/last_fm.ipynb#X15sZmlsZQ%3D%3D?line=0'>1</a>\u001b[0m \u001b[39m# Visualize the dendrogram to help determine the number of clusters\u001b[39;00m\n\u001b[0;32m----> <a href='vscode-notebook-cell:/home/austin/Documents/class/NeuralNetworks/songmood/last_fm.ipynb#X15sZmlsZQ%3D%3D?line=1'>2</a>\u001b[0m dendrogram \u001b[39m=\u001b[39m sch\u001b[39m.\u001b[39mdendrogram(sch\u001b[39m.\u001b[39;49mlinkage(tag_vectors\u001b[39m.\u001b[39;49mtoarray(), method\u001b[39m=\u001b[39;49m\u001b[39m'\u001b[39;49m\u001b[39mward\u001b[39;49m\u001b[39m'\u001b[39;49m))\n\u001b[1;32m      <a href='vscode-notebook-cell:/home/austin/Documents/class/NeuralNetworks/songmood/last_fm.ipynb#X15sZmlsZQ%3D%3D?line=2'>3</a>\u001b[0m plt\u001b[39m.\u001b[39mshow()\n",
      "File \u001b[0;32m/usr/lib/python3/dist-packages/scipy/cluster/hierarchy.py:1060\u001b[0m, in \u001b[0;36mlinkage\u001b[0;34m(y, method, metric, optimal_ordering)\u001b[0m\n\u001b[1;32m   1056\u001b[0m         \u001b[39mif\u001b[39;00m np\u001b[39m.\u001b[39mall(y \u001b[39m>\u001b[39m\u001b[39m=\u001b[39m \u001b[39m0\u001b[39m) \u001b[39mand\u001b[39;00m np\u001b[39m.\u001b[39mallclose(y, y\u001b[39m.\u001b[39mT):\n\u001b[1;32m   1057\u001b[0m             _warning(\u001b[39m'\u001b[39m\u001b[39mThe symmetric non-negative hollow observation \u001b[39m\u001b[39m'\u001b[39m\n\u001b[1;32m   1058\u001b[0m                      \u001b[39m'\u001b[39m\u001b[39mmatrix looks suspiciously like an uncondensed \u001b[39m\u001b[39m'\u001b[39m\n\u001b[1;32m   1059\u001b[0m                      \u001b[39m'\u001b[39m\u001b[39mdistance matrix\u001b[39m\u001b[39m'\u001b[39m)\n\u001b[0;32m-> 1060\u001b[0m     y \u001b[39m=\u001b[39m distance\u001b[39m.\u001b[39;49mpdist(y, metric)\n\u001b[1;32m   1061\u001b[0m \u001b[39melse\u001b[39;00m:\n\u001b[1;32m   1062\u001b[0m     \u001b[39mraise\u001b[39;00m \u001b[39mValueError\u001b[39;00m(\u001b[39m\"\u001b[39m\u001b[39m`y` must be 1 or 2 dimensional.\u001b[39m\u001b[39m\"\u001b[39m)\n",
      "File \u001b[0;32m/usr/lib/python3/dist-packages/scipy/spatial/distance.py:2251\u001b[0m, in \u001b[0;36mpdist\u001b[0;34m(X, metric, out, **kwargs)\u001b[0m\n\u001b[1;32m   2249\u001b[0m \u001b[39mif\u001b[39;00m metric_info \u001b[39mis\u001b[39;00m \u001b[39mnot\u001b[39;00m \u001b[39mNone\u001b[39;00m:\n\u001b[1;32m   2250\u001b[0m     pdist_fn \u001b[39m=\u001b[39m metric_info\u001b[39m.\u001b[39mpdist_func\n\u001b[0;32m-> 2251\u001b[0m     \u001b[39mreturn\u001b[39;00m pdist_fn(X, out\u001b[39m=\u001b[39;49mout, \u001b[39m*\u001b[39;49m\u001b[39m*\u001b[39;49mkwargs)\n\u001b[1;32m   2252\u001b[0m \u001b[39melif\u001b[39;00m mstr\u001b[39m.\u001b[39mstartswith(\u001b[39m\"\u001b[39m\u001b[39mtest_\u001b[39m\u001b[39m\"\u001b[39m):\n\u001b[1;32m   2253\u001b[0m     metric_info \u001b[39m=\u001b[39m _TEST_METRICS\u001b[39m.\u001b[39mget(mstr, \u001b[39mNone\u001b[39;00m)\n",
      "\u001b[0;31mKeyboardInterrupt\u001b[0m: "
     ]
    }
   ],
   "source": [
    "dendrogram = sch.dendrogram(sch.linkage(tag_vectors.toarray(), method='ward'))\n",
    "plt.show()"
   ]
  },
  {
   "cell_type": "code",
   "execution_count": 24,
   "metadata": {},
   "outputs": [],
   "source": [
    "agg_clustering = AgglomerativeClustering(n_clusters=4, linkage='ward')\n",
    "clusters = agg_clustering.fit_predict(tag_vectors.toarray())\n",
    "\n",
    "# Add the cluster labels to the df\n",
    "tag_data['cluster'] = clusters"
   ]
  },
  {
   "cell_type": "code",
   "execution_count": 29,
   "metadata": {},
   "outputs": [
    {
     "data": {
      "text/plain": [
       "0        0\n",
       "1        0\n",
       "2        0\n",
       "3        0\n",
       "4        0\n",
       "        ..\n",
       "11941    1\n",
       "11942    1\n",
       "11943    1\n",
       "11944    1\n",
       "11945    0\n",
       "Name: cluster, Length: 11946, dtype: int64"
      ]
     },
     "execution_count": 29,
     "metadata": {},
     "output_type": "execute_result"
    }
   ],
   "source": [
    "tag_data[\"cluster\"]"
   ]
  },
  {
   "cell_type": "code",
   "execution_count": 27,
   "metadata": {},
   "outputs": [],
   "source": [
    "tag_data.to_csv(\"clustered_tags.csv\")"
   ]
  }
 ],
 "metadata": {
  "kernelspec": {
   "display_name": "Python 3",
   "language": "python",
   "name": "python3"
  },
  "language_info": {
   "codemirror_mode": {
    "name": "ipython",
    "version": 3
   },
   "file_extension": ".py",
   "mimetype": "text/x-python",
   "name": "python",
   "nbconvert_exporter": "python",
   "pygments_lexer": "ipython3",
   "version": "3.10.12"
  }
 },
 "nbformat": 4,
 "nbformat_minor": 2
}
