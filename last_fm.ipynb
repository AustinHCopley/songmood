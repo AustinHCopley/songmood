{
 "cells": [
  {
   "cell_type": "code",
   "execution_count": null,
   "metadata": {},
   "outputs": [],
   "source": [
    "import pandas as pd"
   ]
  },
  {
   "cell_type": "code",
   "execution_count": 3,
   "metadata": {},
   "outputs": [
    {
     "name": "stdout",
     "output_type": "stream",
     "text": [
      "      tag_id           tag_name\n",
      "0      tagID           tagValue\n",
      "1          1              metal\n",
      "2          2  alternative metal\n",
      "3          3          goth rock\n",
      "4          4        black metal\n",
      "...      ...                ...\n",
      "11942  12644              suomi\n",
      "11943  12645          symbiosis\n",
      "11944  12646            sverige\n",
      "11945  12647               eire\n",
      "11946  12648     electro latino\n",
      "\n",
      "[11947 rows x 2 columns]\n"
     ]
    }
   ],
   "source": [
    "# tag_id to tag_name\n",
    "tag_data = pd.read_csv('tags.dat', sep='\\t', header=None, names=['tag_id', 'tag_name'], encoding=\"ISO-8859-1\")\n",
    "\n",
    "print(tag_data)"
   ]
  },
  {
   "cell_type": "code",
   "execution_count": 4,
   "metadata": {},
   "outputs": [
    {
     "name": "stdout",
     "output_type": "stream",
     "text": [
      "<bound method NDFrame.head of           tag_id tag_name\n",
      "userID  artistID   weight\n",
      "2             51    13883\n",
      "2             52    11690\n",
      "2             53    11351\n",
      "2             54    10300\n",
      "...          ...      ...\n",
      "2100       18726      337\n",
      "2100       18727      297\n",
      "2100       18728      281\n",
      "2100       18729      280\n",
      "2100       18730      263\n",
      "\n",
      "[92835 rows x 2 columns]>\n",
      "          tag_id tag_name\n",
      "userID  artistID   weight\n",
      "2             51    13883\n",
      "2             52    11690\n",
      "2             53    11351\n",
      "2             54    10300\n",
      "...          ...      ...\n",
      "2100       18726      337\n",
      "2100       18727      297\n",
      "2100       18728      281\n",
      "2100       18729      280\n",
      "2100       18730      263\n",
      "\n",
      "[92835 rows x 2 columns]\n"
     ]
    }
   ],
   "source": [
    "user_artists = pd.read_csv('user_artists.dat', sep='\\t', header=None, names=['tag_id', 'tag_name'], encoding=\"ISO-8859-1\")\n",
    "print(user_artists)"
   ]
  },
  {
   "cell_type": "code",
   "execution_count": 5,
   "metadata": {},
   "outputs": [
    {
     "name": "stderr",
     "output_type": "stream",
     "text": [
      "/tmp/ipykernel_8478/4195002848.py:1: DtypeWarning: Columns (0,1,2,3,4,5) have mixed types. Specify dtype option on import or set low_memory=False.\n",
      "  user_taggedartists = pd.read_csv('user_taggedartists.dat', sep='\\t', header=None, names=['tag_id', 'tag_name'], encoding=\"ISO-8859-1\")\n"
     ]
    },
    {
     "name": "stdout",
     "output_type": "stream",
     "text": [
      "                          tag_id tag_name\n",
      "userID artistID tagID day  month     year\n",
      "2      52       13    1        4     2009\n",
      "                15    1        4     2009\n",
      "                18    1        4     2009\n",
      "                21    1        4     2009\n",
      "...                          ...      ...\n",
      "2100   16437    4     1        7     2010\n",
      "                292   1        5     2010\n",
      "                2087  1        7     2010\n",
      "                2801  1        5     2010\n",
      "                3335  1        7     2010\n",
      "\n",
      "[186480 rows x 2 columns]\n"
     ]
    }
   ],
   "source": [
    "user_taggedartists = pd.read_csv('user_taggedartists.dat', sep='\\t', header=None, names=['tag_id', 'tag_name'], encoding=\"ISO-8859-1\")\n",
    "print(user_taggedartists)"
   ]
  }
 ],
 "metadata": {
  "kernelspec": {
   "display_name": "Python 3",
   "language": "python",
   "name": "python3"
  },
  "language_info": {
   "codemirror_mode": {
    "name": "ipython",
    "version": 3
   },
   "file_extension": ".py",
   "mimetype": "text/x-python",
   "name": "python",
   "nbconvert_exporter": "python",
   "pygments_lexer": "ipython3",
   "version": "3.10.12"
  }
 },
 "nbformat": 4,
 "nbformat_minor": 2
}
