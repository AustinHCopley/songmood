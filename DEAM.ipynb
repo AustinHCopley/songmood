{
 "cells": [
  {
   "cell_type": "code",
   "execution_count": 29,
   "metadata": {},
   "outputs": [],
   "source": [
    "import os\n",
    "import numpy as np\n",
    "import pandas as pd\n",
    "from torch.utils.data import Dataset\n",
    "import cv2\n",
    "import torch\n",
    "import torch.nn as nn\n",
    "from torch.utils.data import DataLoader\n",
    "from sklearn.metrics import confusion_matrix, accuracy_score\n",
    "from torchvision import transforms\n",
    "import torchvision.models as models\n",
    "import gc\n",
    "from sklearn.metrics import mean_squared_error, mean_absolute_error\n",
    "import matplotlib.pyplot as plt\n",
    "from PIL import Image\n"
   ]
  },
  {
   "cell_type": "code",
   "execution_count": 30,
   "metadata": {},
   "outputs": [
    {
     "data": {
      "text/html": [
       "<div>\n",
       "<style scoped>\n",
       "    .dataframe tbody tr th:only-of-type {\n",
       "        vertical-align: middle;\n",
       "    }\n",
       "\n",
       "    .dataframe tbody tr th {\n",
       "        vertical-align: top;\n",
       "    }\n",
       "\n",
       "    .dataframe thead th {\n",
       "        text-align: right;\n",
       "    }\n",
       "</style>\n",
       "<table border=\"1\" class=\"dataframe\">\n",
       "  <thead>\n",
       "    <tr style=\"text-align: right;\">\n",
       "      <th></th>\n",
       "      <th>song_id</th>\n",
       "      <th>valence_mean</th>\n",
       "      <th>valence_std</th>\n",
       "      <th>arousal_mean</th>\n",
       "      <th>arousal_std</th>\n",
       "    </tr>\n",
       "  </thead>\n",
       "  <tbody>\n",
       "    <tr>\n",
       "      <th>0</th>\n",
       "      <td>2</td>\n",
       "      <td>3.1</td>\n",
       "      <td>0.94</td>\n",
       "      <td>3.0</td>\n",
       "      <td>0.63</td>\n",
       "    </tr>\n",
       "    <tr>\n",
       "      <th>1</th>\n",
       "      <td>3</td>\n",
       "      <td>3.5</td>\n",
       "      <td>1.75</td>\n",
       "      <td>3.3</td>\n",
       "      <td>1.62</td>\n",
       "    </tr>\n",
       "    <tr>\n",
       "      <th>2</th>\n",
       "      <td>4</td>\n",
       "      <td>5.7</td>\n",
       "      <td>1.42</td>\n",
       "      <td>5.5</td>\n",
       "      <td>1.63</td>\n",
       "    </tr>\n",
       "    <tr>\n",
       "      <th>3</th>\n",
       "      <td>5</td>\n",
       "      <td>4.4</td>\n",
       "      <td>2.01</td>\n",
       "      <td>5.3</td>\n",
       "      <td>1.85</td>\n",
       "    </tr>\n",
       "    <tr>\n",
       "      <th>4</th>\n",
       "      <td>7</td>\n",
       "      <td>5.8</td>\n",
       "      <td>1.47</td>\n",
       "      <td>6.4</td>\n",
       "      <td>1.69</td>\n",
       "    </tr>\n",
       "    <tr>\n",
       "      <th>...</th>\n",
       "      <td>...</td>\n",
       "      <td>...</td>\n",
       "      <td>...</td>\n",
       "      <td>...</td>\n",
       "      <td>...</td>\n",
       "    </tr>\n",
       "    <tr>\n",
       "      <th>1338</th>\n",
       "      <td>1595</td>\n",
       "      <td>5.6</td>\n",
       "      <td>1.85</td>\n",
       "      <td>5.9</td>\n",
       "      <td>1.51</td>\n",
       "    </tr>\n",
       "    <tr>\n",
       "      <th>1339</th>\n",
       "      <td>1596</td>\n",
       "      <td>5.5</td>\n",
       "      <td>1.80</td>\n",
       "      <td>5.1</td>\n",
       "      <td>1.87</td>\n",
       "    </tr>\n",
       "    <tr>\n",
       "      <th>1340</th>\n",
       "      <td>1597</td>\n",
       "      <td>5.5</td>\n",
       "      <td>1.02</td>\n",
       "      <td>5.0</td>\n",
       "      <td>0.89</td>\n",
       "    </tr>\n",
       "    <tr>\n",
       "      <th>1341</th>\n",
       "      <td>1598</td>\n",
       "      <td>4.3</td>\n",
       "      <td>2.19</td>\n",
       "      <td>5.5</td>\n",
       "      <td>1.57</td>\n",
       "    </tr>\n",
       "    <tr>\n",
       "      <th>1342</th>\n",
       "      <td>1599</td>\n",
       "      <td>3.6</td>\n",
       "      <td>1.74</td>\n",
       "      <td>4.1</td>\n",
       "      <td>1.45</td>\n",
       "    </tr>\n",
       "  </tbody>\n",
       "</table>\n",
       "<p>1343 rows × 5 columns</p>\n",
       "</div>"
      ],
      "text/plain": [
       "      song_id  valence_mean  valence_std  arousal_mean  arousal_std\n",
       "0           2           3.1         0.94           3.0         0.63\n",
       "1           3           3.5         1.75           3.3         1.62\n",
       "2           4           5.7         1.42           5.5         1.63\n",
       "3           5           4.4         2.01           5.3         1.85\n",
       "4           7           5.8         1.47           6.4         1.69\n",
       "...       ...           ...          ...           ...          ...\n",
       "1338     1595           5.6         1.85           5.9         1.51\n",
       "1339     1596           5.5         1.80           5.1         1.87\n",
       "1340     1597           5.5         1.02           5.0         0.89\n",
       "1341     1598           4.3         2.19           5.5         1.57\n",
       "1342     1599           3.6         1.74           4.1         1.45\n",
       "\n",
       "[1343 rows x 5 columns]"
      ]
     },
     "execution_count": 30,
     "metadata": {},
     "output_type": "execute_result"
    }
   ],
   "source": [
    "labels = pd.read_csv(\"./DEAM_Annotations/annotations/avgannotations/song_level/static_train.csv\", header=0, names=[\"song_id\", \"valence_mean\", \"valence_std\", \"arousal_mean\", \"arousal_std\"])\n",
    "labels\n",
    "# labels.columns\n"
   ]
  },
  {
   "cell_type": "code",
   "execution_count": 47,
   "metadata": {},
   "outputs": [],
   "source": [
    "class DEAM(Dataset):\n",
    "    \"\"\"Custom dataset for mp3 files\"\"\"\n",
    "    def __init__(self, label_file, data_dir, transform=None):\n",
    "        self.labels = pd.read_csv(label_file, header=0, names=[\"song_id\", \"valence_mean\", \"valence_std\", \"arousal_mean\", \"arousal_std\"])\n",
    "        self.data_dir = data_dir\n",
    "        self.transform = transform\n",
    "    \n",
    "    def __len__(self):\n",
    "        return len(self.labels)\n",
    "\n",
    "    def __getitem__(self, idx):\n",
    "        filename = int(self.labels.iloc[idx]['song_id'])\n",
    "        audio_path = os.path.join(self.data_dir, f\"{filename}.png\")\n",
    "        if not os.path.exists(audio_path):\n",
    "            raise FileNotFoundError(f\"File not found: {audio_path}\")\n",
    "\n",
    "        data = cv2.imread(audio_path) \n",
    "\n",
    "        if self.transform:\n",
    "            data = self.transform(data)\n",
    "        \n",
    "        target = torch.tensor([self.labels.iloc[idx]['valence_mean'], self.labels.iloc[idx]['arousal_mean']], dtype=torch.float32)\n",
    "\n",
    "        return np.asarray(data), target"
   ]
  },
  {
   "cell_type": "code",
   "execution_count": 48,
   "metadata": {},
   "outputs": [
    {
     "name": "stdout",
     "output_type": "stream",
     "text": [
      "cuda\n"
     ]
    }
   ],
   "source": [
    "if torch.cuda.is_available():\n",
    "    device = torch.device('cuda')\n",
    "    print(\"cuda\")\n",
    "else:\n",
    "    device = torch.device('cpu')\n",
    "    print(\"CPU\")\n",
    "\n",
    "gc.collect()\n",
    "torch.cuda.empty_cache()"
   ]
  },
  {
   "cell_type": "code",
   "execution_count": 49,
   "metadata": {},
   "outputs": [],
   "source": [
    "train_labels = \"./DEAM_Annotations/annotations/avgannotations/song_level/static_train.csv\"\n",
    "test_labels = \"./DEAM_Annotations/annotations/avgannotations/song_level/static_test.csv\"\n",
    "train_dir = test_dir = \"./DEAM_img/\"\n",
    "\n",
    "transform = transforms.Compose([\n",
    "    # transforms.Resize((480, 640)),\n",
    "    transforms.ToTensor(),\n",
    "    transforms.Normalize(mean=[0.5, 0.5, 0.5], std=[0.5, 0.5, 0.5])\n",
    "])\n",
    "\n",
    "train_dataset = DEAM(train_labels, train_dir, transform=transform)\n",
    "train_loader = DataLoader(train_dataset, batch_size=24, shuffle=True)\n",
    "\n",
    "test_dataset = DEAM(test_labels, test_dir, transform=transform)\n",
    "test_loader = DataLoader(test_dataset, batch_size=24)"
   ]
  },
  {
   "cell_type": "code",
   "execution_count": 50,
   "metadata": {},
   "outputs": [],
   "source": [
    "class DEAMCNN(nn.Module):\n",
    "    def __init__(self, num_classes):\n",
    "        super(DEAMCNN, self).__init__()\n",
    "        self.conv1 = nn.Conv2d(3, 16, kernel_size=3, stride=1, padding=1)\n",
    "        self.conv2 = nn.Conv2d(16, 32, kernel_size=3, stride=1, padding=1)\n",
    "        self.pool = nn.MaxPool2d(kernel_size=2, stride=2, padding=0)\n",
    "\n",
    "        fc1_input = 32 * 72 * 108\n",
    "        self.fc1 = nn.Linear(fc1_input, 128)\n",
    "        self.fc2 = nn.Linear(128, num_classes)\n",
    "\n",
    "    def forward(self, x):\n",
    "        x = torch.relu(self.conv1(x))\n",
    "        x = self.pool(x)\n",
    "        x = torch.relu(self.conv2(x))\n",
    "        x = self.pool(x)\n",
    "\n",
    "        fc1_input = 32 * x.size(2) * x.size(3)\n",
    "        x = x.view(x.size(0), -1)\n",
    "        x = torch.relu(self.fc1(x))\n",
    "        x = self.fc2(x)\n",
    "        return x"
   ]
  },
  {
   "cell_type": "code",
   "execution_count": 56,
   "metadata": {},
   "outputs": [],
   "source": []
  },
  {
   "cell_type": "code",
   "execution_count": 61,
   "metadata": {},
   "outputs": [
    {
     "name": "stdout",
     "output_type": "stream",
     "text": [
      "Epoch [1/10], Loss: 16.2643, Valence Loss: 22.1634, Arousal Loss: 10.3653\n",
      "Epoch [2/10], Loss: 1.2373, Valence Loss: 1.1621, Arousal Loss: 1.3124\n",
      "Epoch [3/10], Loss: 1.0158, Valence Loss: 0.9118, Arousal Loss: 1.1199\n",
      "Epoch [4/10], Loss: 0.9661, Valence Loss: 0.8934, Arousal Loss: 1.0387\n",
      "Epoch [5/10], Loss: 0.8246, Valence Loss: 0.7908, Arousal Loss: 0.8585\n",
      "Epoch [6/10], Loss: 0.6904, Valence Loss: 0.6967, Arousal Loss: 0.6841\n",
      "Epoch [7/10], Loss: 0.5604, Valence Loss: 0.5828, Arousal Loss: 0.5381\n",
      "Epoch [8/10], Loss: 0.4108, Valence Loss: 0.4330, Arousal Loss: 0.3886\n",
      "Epoch [9/10], Loss: 0.2920, Valence Loss: 0.3299, Arousal Loss: 0.2540\n",
      "Epoch [10/10], Loss: 0.1984, Valence Loss: 0.2253, Arousal Loss: 0.1715\n"
     ]
    },
    {
     "data": {
      "image/png": "[encoded data removed]",
      "text/plain": [
       "<Figure size 640x480 with 1 Axes>"
      ]
     },
     "metadata": {},
     "output_type": "display_data"
    }
   ],
   "source": [
    "num_classes = 2\n",
    "model = DEAMCNN(num_classes)\n",
    "\n",
    "device = torch.device(\"cuda\" if torch.cuda.is_available() else \"cpu\")\n",
    "model.to(device)\n",
    "\n",
    "criterion = nn.MSELoss()\n",
    "optimizer = torch.optim.Adam(model.parameters(), lr=0.001)\n",
    "\n",
    "train_loss_history = []\n",
    "valence_errors_history = []\n",
    "arousal_errors_history = []\n",
    "\n",
    "num_epochs = 10\n",
    "for epoch in range(num_epochs):\n",
    "    model.train()\n",
    "    epoch_loss = 0.0\n",
    "    valence_errors = 0.0\n",
    "    arousal_errors = 0.0\n",
    "\n",
    "    for inputs, targets in train_loader:\n",
    "        inputs, targets = inputs.to(device), targets.to(device)\n",
    "        optimizer.zero_grad()\n",
    "        outputs = model(inputs)\n",
    "\n",
    "        valence_targets = targets[:, 0].unsqueeze(1)\n",
    "        arousal_targets = targets[:, 1].unsqueeze(1)\n",
    "\n",
    "        loss = criterion(outputs, targets)\n",
    "        valence_loss = criterion(outputs[:, 0].unsqueeze(1), valence_targets)\n",
    "        arousal_loss = criterion(outputs[:, 1].unsqueeze(1), arousal_targets)\n",
    "\n",
    "        loss.backward()\n",
    "        optimizer.step()\n",
    "\n",
    "        epoch_loss += loss.item()\n",
    "        valence_errors += valence_loss.item()\n",
    "        arousal_errors += arousal_loss.item()\n",
    "\n",
    "    epoch_loss /= len(train_loader)\n",
    "    valence_errors /= len(train_loader)\n",
    "    arousal_errors /= len(train_loader)\n",
    "\n",
    "    train_loss_history.append(epoch_loss)\n",
    "    valence_errors_history.append(valence_errors)\n",
    "    arousal_errors_history.append(arousal_errors)\n",
    "\n",
    "    print(f'Epoch [{epoch+1}/{num_epochs}], Loss: {epoch_loss:.4f}, Valence Loss: {valence_errors:.4f}, Arousal Loss: {arousal_errors:.4f}')\n",
    "\n",
    "plt.plot(train_loss_history, label='Total Loss')\n",
    "plt.plot(valence_errors_history, label='Valence Loss')\n",
    "plt.plot(arousal_errors_history, label='Arousal Loss')\n",
    "plt.xlabel('Epoch')\n",
    "plt.ylabel('Loss')\n",
    "plt.legend()\n",
    "plt.show()"
   ]
  },
  {
   "cell_type": "code",
   "execution_count": 62,
   "metadata": {},
   "outputs": [
    {
     "name": "stdout",
     "output_type": "stream",
     "text": [
      "tensor(0.2425, device='cuda:0', grad_fn=<MseLossBackward0>)\n"
     ]
    }
   ],
   "source": [
    "print(loss)"
   ]
  },
  {
   "cell_type": "code",
   "execution_count": 63,
   "metadata": {},
   "outputs": [],
   "source": [
    "torch.save(model.state_dict(), \"DEAMCNN.pth\")"
   ]
  },
  {
   "cell_type": "code",
   "execution_count": 66,
   "metadata": {},
   "outputs": [
    {
     "name": "stdout",
     "output_type": "stream",
     "text": [
      "tensor([[3.8405, 4.1781]])\n"
     ]
    }
   ],
   "source": [
    "input_image_path = 'DEAM_img/2.png'\n",
    "\n",
    "transform = transforms.Compose([\n",
    "    transforms.Resize((288, 432)),\n",
    "    transforms.ToTensor(),\n",
    "    transforms.Normalize(mean=[0.5, 0.5, 0.5], std=[0.5, 0.5, 0.5])\n",
    "])\n",
    "\n",
    "image = Image.open(input_image_path)\n",
    "input_tensor = transform(image).unsqueeze(0)\n",
    "\n",
    "model = DEAMCNN(num_classes)\n",
    "model.load_state_dict(torch.load('DEAMCNN.pth'))\n",
    "model.eval()\n",
    "\n",
    "with torch.no_grad():\n",
    "    output = model(input_tensor)\n",
    "print(output)\n",
    "train = pd.read_csv(\"\")"
   ]
  },
  {
   "cell_type": "code",
   "execution_count": 78,
   "metadata": {},
   "outputs": [
    {
     "name": "stdout",
     "output_type": "stream",
     "text": [
      "Valence MSE: 0.7654\n",
      "Arousal MSE: 0.8419\n"
     ]
    }
   ],
   "source": [
    "criterion = nn.MSELoss()\n",
    "\n",
    "total_loss = 0.0\n",
    "num_samples = 0\n",
    "model.to(device)\n",
    "\n",
    "model.eval()\n",
    "\n",
    "valence_preds = []\n",
    "arousal_preds = []\n",
    "valence_true = []\n",
    "arousal_true = []\n",
    "\n",
    "with torch.no_grad():\n",
    "    for inputs, targets in test_loader:\n",
    "        outputs = model(inputs.to(device))\n",
    "        targets = targets.to(device)\n",
    "\n",
    "        valence_preds.extend(outputs[:, 0].cpu().numpy())\n",
    "        arousal_preds.extend(outputs[:, 1].cpu().numpy())\n",
    "\n",
    "        valence_true.extend(targets[:, 0].cpu().numpy())\n",
    "        arousal_true.extend(targets[:, 1].cpu().numpy())\n",
    "\n",
    "valence_mse = mean_squared_error(valence_true, valence_preds)\n",
    "arousal_mse = mean_squared_error(arousal_true, arousal_preds)\n",
    "\n",
    "print(f\"Valence MSE: {valence_mse:.4f}\")\n",
    "print(f\"Arousal MSE: {arousal_mse:.4f}\")"
   ]
  },
  {
   "cell_type": "code",
   "execution_count": 70,
   "metadata": {},
   "outputs": [],
   "source": [
    "val_dir = test_dir\n",
    "val_labels = \"./DEAM_Annotations/annotations/avgannotations/song_level/static_val.csv\"\n",
    "\n",
    "val_dataset = DEAM(val_labels, val_dir, transform=transform)\n",
    "val_loader = DataLoader(val_dataset, batch_size=24)"
   ]
  },
  {
   "cell_type": "code",
   "execution_count": null,
   "metadata": {},
   "outputs": [],
   "source": [
    "criterion = nn.MSELoss()\n",
    "\n",
    "total_loss = 0.0\n",
    "num_samples = 0\n",
    "model.to(device)\n",
    "\n",
    "with torch.no_grad():\n",
    "    for inputs, targets in val_loader:\n",
    "        inputs = inputs.to(device)\n",
    "        targets = targets.to(device)\n",
    "        \n",
    "        outputs = model(inputs)\n",
    "        \n",
    "        loss = criterion(outputs, targets)\n",
    "        \n",
    "        total_loss += loss.item()\n",
    "        num_samples += targets.size(0)\n",
    "\n",
    "average_loss = total_loss / num_samples\n",
    "\n",
    "print(f'Mean Squared Error on Val Set: {average_loss:.4f}')"
   ]
  }
 ],
 "metadata": {
  "kernelspec": {
   "display_name": "Python 3",
   "language": "python",
   "name": "python3"
  },
  "language_info": {
   "codemirror_mode": {
    "name": "ipython",
    "version": 3
   },
   "file_extension": ".py",
   "mimetype": "text/x-python",
   "name": "python",
   "nbconvert_exporter": "python",
   "pygments_lexer": "ipython3",
   "version": "3.10.12"
  }
 },
 "nbformat": 4,
 "nbformat_minor": 2
}
